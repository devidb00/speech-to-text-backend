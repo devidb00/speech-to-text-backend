{
 "cells": [
  {
   "cell_type": "code",
   "execution_count": 1,
   "metadata": {},
   "outputs": [],
   "source": [
    "import pandas as pd"
   ]
  },
  {
   "cell_type": "code",
   "execution_count": 23,
   "metadata": {},
   "outputs": [],
   "source": [
    "book = pd.read_csv(\n",
    "    './data/french.csv',\n",
    "    sep=\"|\",\n",
    "    header=None,\n",
    ")\n",
    "book.columns = [\"sura\", \"ayat\", \"text\"]\n",
    "book['sura'] = book['sura'].astype(int)\n",
    "book['ayat'] = book['sura'].astype(int)\n",
    "\n",
    "def replace_char_by_another(text):\n",
    "    return text.replace(\"` \", \"'\")\n",
    "\n",
    "book[\"text\"] = book[\"text\"].apply(lambda x: replace_char_by_another(x))"
   ]
  },
  {
   "cell_type": "code",
   "execution_count": 27,
   "metadata": {},
   "outputs": [],
   "source": []
  }
 ],
 "metadata": {
  "kernelspec": {
   "display_name": "base",
   "language": "python",
   "name": "python3"
  },
  "language_info": {
   "codemirror_mode": {
    "name": "ipython",
    "version": 3
   },
   "file_extension": ".py",
   "mimetype": "text/x-python",
   "name": "python",
   "nbconvert_exporter": "python",
   "pygments_lexer": "ipython3",
   "version": "3.10.8"
  },
  "orig_nbformat": 4
 },
 "nbformat": 4,
 "nbformat_minor": 2
}
