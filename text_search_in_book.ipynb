{
 "cells": [
  {
   "cell_type": "code",
   "execution_count": 227,
   "metadata": {},
   "outputs": [],
   "source": [
    "import os\n",
    "import re\n",
    "import string\n",
    "import requests\n",
    "import pandas as pd\n",
    "import qalsadi.lemmatizer\n",
    "from bs4 import BeautifulSoup\n",
    "import pyarabic.araby as araby\n",
    "from nltk.corpus import stopwords\n",
    "import arabicstopwords.arabicstopwords as stp"
   ]
  },
  {
   "cell_type": "code",
   "execution_count": 188,
   "metadata": {},
   "outputs": [],
   "source": [
    "def get_surah_names():\n",
    "    surah_names = [] #surah names sorted\n",
    "    URL = \"https://surahquran.com/quran-search/quran.html\"\n",
    "    page = requests.get(URL)\n",
    "    soup = BeautifulSoup(page.content, \"html.parser\")\n",
    "    all_table = soup.find_all('table')[1]\n",
    "    for idx, elm in enumerate(all_table.find_all(\"a\")):\n",
    "        surah_names.append(\n",
    "            (idx + 1, elm.text)\n",
    "        )\n",
    "    return surah_names"
   ]
  },
  {
   "cell_type": "code",
   "execution_count": 235,
   "metadata": {},
   "outputs": [],
   "source": [
    "LANGUAGE = \"AR\"\n",
    "file = 'arabic.csv' if LANGUAGE == \"AR\" else 'french.csv'\n",
    "\n",
    "book = pd.read_csv(\n",
    "    f'{os.getcwd()}/data/{file}',\n",
    "    sep=\"|\",\n",
    "    header=None,\n",
    ")\n",
    "\n",
    "book.columns = [\"surah\", \"ayat\", \"text\"]\n",
    "\n",
    "book['surah'] = book['surah'].astype(int)\n",
    "book['ayat'] = book['ayat'].astype(int)\n",
    "book['text'] = book['text'].apply(lambda t: araby.strip_diacritics(t))\n",
    "\n",
    "mapping_dictionary = {t[0]: t for t in get_surah_names()}\n",
    "book['surah_name'] = book['surah'].map(mapping_dictionary).apply(lambda t: t[1])\n",
    "\n",
    "book['text'].to_csv(f'{os.getcwd()}/output.txt', index=False, sep=\"\\t\", header=None)"
   ]
  },
  {
   "attachments": {},
   "cell_type": "markdown",
   "metadata": {},
   "source": [
    "<p>\n",
    "    Testing TheFuzz package\n",
    "</p>"
   ]
  },
  {
   "cell_type": "code",
   "execution_count": 201,
   "metadata": {},
   "outputs": [],
   "source": [
    "from thefuzz import fuzz\n",
    "\n",
    "search_text = \"صراط الذين\"\n",
    "book = book.assign(\n",
    "    score = lambda _df: \n",
    "        _df['text'].apply(lambda t: \n",
    "            fuzz.partial_ratio(t, search_text)\n",
    "        )\n",
    "    )"
   ]
  },
  {
   "attachments": {},
   "cell_type": "markdown",
   "metadata": {},
   "source": [
    "<h2>Text cleaning</h2>"
   ]
  },
  {
   "cell_type": "code",
   "execution_count": 236,
   "metadata": {},
   "outputs": [],
   "source": [
    "def normalize_chars(txt):\n",
    "    txt = re.sub(\"[إأٱآا]\", \"ا\", txt)\n",
    "    txt = re.sub(\"ى\", \"ي\", txt)\n",
    "    txt = re.sub(\"ة\", \"ه\", txt)\n",
    "    return txt\n",
    "\n",
    "stopwordlist = set(list(stp.stopwords_list()) + stopwords.words('arabic'))\n",
    "stopwordlist = [normalize_chars(word) for word in stopwordlist]"
   ]
  },
  {
   "cell_type": "code",
   "execution_count": 237,
   "metadata": {},
   "outputs": [],
   "source": [
    "lemmer = qalsadi.lemmatizer.Lemmatizer()\n",
    "\n",
    "def clean_txt(txt):\n",
    "    txt = araby.strip_diacritics(txt)\n",
    "    txt = araby.strip_tatweel(txt)\n",
    "    txt = normalize_chars(txt)\n",
    "    txt = ' '.join([\n",
    "        token.translate(\n",
    "            str.maketrans(\n",
    "                '', \n",
    "                '', \n",
    "                string.punctuation\n",
    "            )\n",
    "        ) for token in txt.split(' ') if token not in stopwordlist\n",
    "    ])\n",
    "    txt_lemmatized = ' '.join([lemmer.lemmatize(token) for token in txt.split(' ')])\n",
    "    return f\"{txt} {txt_lemmatized}\""
   ]
  },
  {
   "cell_type": "code",
   "execution_count": 238,
   "metadata": {},
   "outputs": [],
   "source": [
    "book['clean_txt'] = book['text'].apply(lambda x: clean_txt(x))"
   ]
  },
  {
   "cell_type": "code",
   "execution_count": 240,
   "metadata": {},
   "outputs": [
    {
     "data": {
      "text/html": [
       "<div>\n",
       "<style scoped>\n",
       "    .dataframe tbody tr th:only-of-type {\n",
       "        vertical-align: middle;\n",
       "    }\n",
       "\n",
       "    .dataframe tbody tr th {\n",
       "        vertical-align: top;\n",
       "    }\n",
       "\n",
       "    .dataframe thead th {\n",
       "        text-align: right;\n",
       "    }\n",
       "</style>\n",
       "<table border=\"1\" class=\"dataframe\">\n",
       "  <thead>\n",
       "    <tr style=\"text-align: right;\">\n",
       "      <th></th>\n",
       "      <th>surah</th>\n",
       "      <th>ayat</th>\n",
       "      <th>text</th>\n",
       "      <th>surah_name</th>\n",
       "      <th>clean_txt</th>\n",
       "    </tr>\n",
       "  </thead>\n",
       "  <tbody>\n",
       "    <tr>\n",
       "      <th>5002</th>\n",
       "      <td>56</td>\n",
       "      <td>24</td>\n",
       "      <td>جزاء بما كانوا يعملون</td>\n",
       "      <td>الواقعة</td>\n",
       "      <td>جزاء كانوا يعملون جزاء كانو عمل</td>\n",
       "    </tr>\n",
       "    <tr>\n",
       "      <th>5915</th>\n",
       "      <td>85</td>\n",
       "      <td>7</td>\n",
       "      <td>وهم على ما يفعلون بالمؤمنين شهود</td>\n",
       "      <td>البروج</td>\n",
       "      <td>بالمؤمنين شهود مؤمن شهود</td>\n",
       "    </tr>\n",
       "    <tr>\n",
       "      <th>401</th>\n",
       "      <td>3</td>\n",
       "      <td>109</td>\n",
       "      <td>ولله ما في السماوات وما في الأرض  وإلى الله تر...</td>\n",
       "      <td>آل عمران</td>\n",
       "      <td>ولله السماوات الارض  الله ترجع الامور له سماوا...</td>\n",
       "    </tr>\n",
       "  </tbody>\n",
       "</table>\n",
       "</div>"
      ],
      "text/plain": [
       "      surah  ayat                                               text  \\\n",
       "5002     56    24                              جزاء بما كانوا يعملون   \n",
       "5915     85     7                   وهم على ما يفعلون بالمؤمنين شهود   \n",
       "401       3   109  ولله ما في السماوات وما في الأرض  وإلى الله تر...   \n",
       "\n",
       "     surah_name                                          clean_txt  \n",
       "5002    الواقعة                    جزاء كانوا يعملون جزاء كانو عمل  \n",
       "5915     البروج                           بالمؤمنين شهود مؤمن شهود  \n",
       "401    آل عمران  ولله السماوات الارض  الله ترجع الامور له سماوا...  "
      ]
     },
     "execution_count": 240,
     "metadata": {},
     "output_type": "execute_result"
    }
   ],
   "source": [
    "book.sample(3)"
   ]
  },
  {
   "cell_type": "code",
   "execution_count": null,
   "metadata": {},
   "outputs": [],
   "source": []
  }
 ],
 "metadata": {
  "kernelspec": {
   "display_name": "base",
   "language": "python",
   "name": "python3"
  },
  "language_info": {
   "codemirror_mode": {
    "name": "ipython",
    "version": 3
   },
   "file_extension": ".py",
   "mimetype": "text/x-python",
   "name": "python",
   "nbconvert_exporter": "python",
   "pygments_lexer": "ipython3",
   "version": "3.10.8"
  },
  "orig_nbformat": 4
 },
 "nbformat": 4,
 "nbformat_minor": 2
}
