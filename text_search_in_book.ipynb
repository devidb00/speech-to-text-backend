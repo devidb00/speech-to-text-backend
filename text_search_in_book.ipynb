{
 "cells": [
  {
   "cell_type": "code",
   "execution_count": 187,
   "metadata": {},
   "outputs": [],
   "source": [
    "import os\n",
    "import requests\n",
    "import pandas as pd\n",
    "from bs4 import BeautifulSoup\n",
    "import pyarabic.araby as araby"
   ]
  },
  {
   "cell_type": "code",
   "execution_count": 188,
   "metadata": {},
   "outputs": [],
   "source": [
    "def get_surah_names():\n",
    "    surah_names = [] #surah names sorted\n",
    "    URL = \"https://surahquran.com/quran-search/quran.html\"\n",
    "    page = requests.get(URL)\n",
    "    soup = BeautifulSoup(page.content, \"html.parser\")\n",
    "    all_table = soup.find_all('table')[1]\n",
    "    for idx, elm in enumerate(all_table.find_all(\"a\")):\n",
    "        surah_names.append(\n",
    "            (idx + 1, elm.text)\n",
    "        )\n",
    "    return surah_names"
   ]
  },
  {
   "cell_type": "code",
   "execution_count": 189,
   "metadata": {},
   "outputs": [],
   "source": [
    "LANGUAGE = \"AR\"\n",
    "file = 'arabic.csv' if LANGUAGE == \"AR\" else 'french.csv'\n",
    "\n",
    "book = pd.read_csv(\n",
    "    f'{os.getcwd()}/data/{file}',\n",
    "    sep=\"|\",\n",
    "    header=None,\n",
    ")\n",
    "\n",
    "book.columns = [\"surah\", \"ayat\", \"text\"]\n",
    "\n",
    "book['surah'] = book['surah'].astype(int)\n",
    "book['ayat'] = book['ayat'].astype(int)\n",
    "book['text'] = book['text'].apply(lambda t: araby.strip_diacritics(t))\n",
    "\n",
    "mapping_dictionary = {t[0]: t for t in get_surah_names()}\n",
    "book['surah_name'] = book['surah'].map(mapping_dictionary).apply(lambda t: t[1])\n",
    "\n",
    "book['text'].to_csv(f'{os.getcwd()}/output.txt', index=False, sep=\"\\t\", header=None)"
   ]
  },
  {
   "cell_type": "code",
   "execution_count": 190,
   "metadata": {},
   "outputs": [],
   "source": [
    "from thefuzz import fuzz\n",
    "\n",
    "search_text = \"الذين آتيناهم الكتاب يعرفونه كما يعرف\"\n",
    "book = book.assign(\n",
    "    score = lambda _df: \n",
    "        _df['text'].map(lambda t: \n",
    "            fuzz.partial_ratio(t, search_text)\n",
    "        )\n",
    "    )"
   ]
  },
  {
   "cell_type": "code",
   "execution_count": 191,
   "metadata": {},
   "outputs": [
    {
     "data": {
      "text/plain": [
       "0                                  بسم الله الرحمن الرحيم\n",
       "2238    وتركنا بعضهم يومئذ يموج في بعض  ونفخ في الصور ...\n",
       "3202    قيل لها ادخلي الصرح  فلما رأته حسبته لجة وكشفت...\n",
       "1080    وقال الملأ من قوم فرعون أتذر موسى وقومه ليفسدو...\n",
       "1847                                  ادخلوها بسلام آمنين\n",
       "                              ...                        \n",
       "5277    إن ربك هو أعلم بمن ضل عن سبيله وهو أعلم بالمهتدين\n",
       "5545                                         فرت من قسورة\n",
       "2590    قل إنما يوحى إلي أنما إلهكم إله واحد  فهل أنتم...\n",
       "4632                   أإذا متنا وكنا ترابا  ذلك رجع بعيد\n",
       "5270    قل أرأيتم إن أصبح ماؤكم غورا فمن يأتيكم بماء معين\n",
       "Name: text, Length: 252, dtype: object"
      ]
     },
     "execution_count": 191,
     "metadata": {},
     "output_type": "execute_result"
    }
   ],
   "source": [
    "book.sort_values('score', ascending=False).loc[0::5, 'text']"
   ]
  },
  {
   "cell_type": "code",
   "execution_count": null,
   "metadata": {},
   "outputs": [],
   "source": []
  }
 ],
 "metadata": {
  "kernelspec": {
   "display_name": "base",
   "language": "python",
   "name": "python3"
  },
  "language_info": {
   "codemirror_mode": {
    "name": "ipython",
    "version": 3
   },
   "file_extension": ".py",
   "mimetype": "text/x-python",
   "name": "python",
   "nbconvert_exporter": "python",
   "pygments_lexer": "ipython3",
   "version": "3.10.8"
  },
  "orig_nbformat": 4
 },
 "nbformat": 4,
 "nbformat_minor": 2
}
